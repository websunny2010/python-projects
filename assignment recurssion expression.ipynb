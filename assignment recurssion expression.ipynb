{
 "cells": [
  {
   "cell_type": "code",
   "execution_count": 8,
   "id": "a28e53b3",
   "metadata": {},
   "outputs": [
    {
     "name": "stdout",
     "output_type": "stream",
     "text": [
      "Original date in YYY-MM-DD format: 2026-01-02\n",
      "New date in DD-MM-YYYY format: 02-01-2026\n"
     ]
    }
   ],
   "source": [
    "# write a python program to convert a date of yyy-mm-dd format to dd-mm-yyy format?\n",
    "\n",
    "import re\n",
    "\n",
    "def change_date_format(dt):\n",
    "    \n",
    "    \n",
    "    return re.sub(r'(\\d{4})-(\\d{1,2})-(\\d{1,2})','\\\\3-\\\\2-\\\\1',dt)\n",
    "\n",
    "dt1 = \"2026-01-02\"\n",
    "\n",
    "print(\"Original date in YYY-MM-DD format:\",dt1)\n",
    "\n",
    "print(\"New date in DD-MM-YYYY format:\",change_date_format(dt1))\n"
   ]
  },
  {
   "cell_type": "code",
   "execution_count": 9,
   "id": "b34a968b",
   "metadata": {},
   "outputs": [
    {
     "data": {
      "text/plain": [
       "'25-10-2023'"
      ]
     },
     "execution_count": 9,
     "metadata": {},
     "output_type": "execute_result"
    }
   ],
   "source": [
    "change_date_format('2023-10-25')"
   ]
  },
  {
   "cell_type": "code",
   "execution_count": 12,
   "id": "e2ecdc89",
   "metadata": {},
   "outputs": [
    {
     "name": "stdout",
     "output_type": "stream",
     "text": [
      "Found a match!\n",
      "Not matched!\n"
     ]
    }
   ],
   "source": [
    "# write a python program that matches a string that has an a followed by two to three 'b'?\n",
    "\n",
    "import re \n",
    "\n",
    "def text_match(text):\n",
    "    \n",
    "    patterns = 'ab{2,3}'\n",
    "    \n",
    "    if re.search(patterns, text):\n",
    "        \n",
    "        return 'Found a match!'\n",
    "    else:\n",
    "        \n",
    "        \n",
    "        return('Not matched!')\n",
    "    \n",
    "print(text_match(\"aabbbbbc\"))\n",
    "\n",
    "print(text_match(\"ab\"))\n",
    "    \n",
    "    \n",
    "\n"
   ]
  },
  {
   "cell_type": "code",
   "execution_count": 13,
   "id": "c21c6905",
   "metadata": {},
   "outputs": [
    {
     "name": "stdout",
     "output_type": "stream",
     "text": [
      "Number of length 1 to 3\n",
      "1\n",
      "12\n",
      "13\n",
      "345\n"
     ]
    }
   ],
   "source": [
    "# write a python program to search for numbers (0-9) of length between 1 and 3 in a given string?\n",
    "\n",
    "import re\n",
    "\n",
    "results = re.finditer(r\"([0-9]{1,3})\",\"Exercises number 1,12,13,and 345 are important\")\n",
    "\n",
    "print(\"Number of length 1 to 3\")\n",
    "\n",
    "for n in results:\n",
    "    \n",
    "    print(n.group(0))"
   ]
  },
  {
   "cell_type": "code",
   "execution_count": 19,
   "id": "b183f698",
   "metadata": {},
   "outputs": [
    {
     "name": "stdout",
     "output_type": "stream",
     "text": [
      "Not a valid Email\n"
     ]
    }
   ],
   "source": [
    "#write a python program to validate the email id according to given condition?\n",
    "\n",
    "import re \n",
    "\n",
    "Email = \"Johndoe@gmail.com\"\n",
    "\n",
    "flag = 0\n",
    "\n",
    "while True:\n",
    "    \n",
    "    if(len(Email)<=8):\n",
    "        \n",
    "        flag = -1\n",
    "        \n",
    "        break\n",
    "    \n",
    "    elif not re.search (\"[a-z]\",Email):\n",
    "        \n",
    "        flag = -1\n",
    "        \n",
    "        break\n",
    "        \n",
    "    elif not re.search (\"[A-Z]\",Email):\n",
    "        \n",
    "        flag = -1\n",
    "        \n",
    "        break\n",
    "        \n",
    "    elif not re.search (\"[0-9]\",Email):\n",
    "        \n",
    "        flag = -1 \n",
    "        \n",
    "        break\n",
    "        \n",
    "    elif not re.search (\"[_@$]\",Email):\n",
    "        \n",
    "        flag = -1\n",
    "        \n",
    "        break\n",
    "        \n",
    "    elif re.search (\"\\s\",Email):\n",
    "        \n",
    "        flag = -1\n",
    "        \n",
    "        break\n",
    "       \n",
    "    else:\n",
    "        \n",
    "        flag = 0\n",
    "        \n",
    "        print('Valid Email')\n",
    "        \n",
    "        break\n",
    "        \n",
    "if flag == -1:\n",
    "    \n",
    "    print(\"Not a valid Email\")    "
   ]
  },
  {
   "cell_type": "code",
   "execution_count": 20,
   "id": "e7c93a2e",
   "metadata": {},
   "outputs": [
    {
     "name": "stdout",
     "output_type": "stream",
     "text": [
      "Not a valid password\n"
     ]
    }
   ],
   "source": [
    "# write a python program to validate the password having minimum 8 character long?\n",
    "\n",
    "import re \n",
    "\n",
    "password = \"hredy@0210254\"\n",
    "\n",
    "flag = 0\n",
    "\n",
    "while True:\n",
    "    \n",
    "    if(len(password)<=8):\n",
    "        \n",
    "        flag = -1\n",
    "        \n",
    "        break\n",
    "    \n",
    "    elif not re.search (\"[a-z]\",password):\n",
    "        \n",
    "        flag = -1\n",
    "        \n",
    "        break\n",
    "        \n",
    "    elif not re.search (\"[A-Z]\",password):\n",
    "        \n",
    "        flag = -1\n",
    "        \n",
    "        break\n",
    "        \n",
    "    elif not re.search (\"[0-9]\",password):\n",
    "        \n",
    "        flag = -1 \n",
    "        \n",
    "        break\n",
    "        \n",
    "    elif not re.search (\"[_@$]\",password):\n",
    "        \n",
    "        flag = -1\n",
    "        \n",
    "        break\n",
    "        \n",
    "    elif re.search (\"\\s\",password):\n",
    "        \n",
    "        flag = -1\n",
    "        \n",
    "        break\n",
    "       \n",
    "    else:\n",
    "        \n",
    "        flag = 0\n",
    "        \n",
    "        print('Valid Password')\n",
    "        \n",
    "        break\n",
    "        \n",
    "if flag == -1:\n",
    "    \n",
    "    print(\"Not a valid password\") "
   ]
  },
  {
   "cell_type": "code",
   "execution_count": null,
   "id": "553f0ffe",
   "metadata": {},
   "outputs": [],
   "source": []
  }
 ],
 "metadata": {
  "kernelspec": {
   "display_name": "Python 3 (ipykernel)",
   "language": "python",
   "name": "python3"
  },
  "language_info": {
   "codemirror_mode": {
    "name": "ipython",
    "version": 3
   },
   "file_extension": ".py",
   "mimetype": "text/x-python",
   "name": "python",
   "nbconvert_exporter": "python",
   "pygments_lexer": "ipython3",
   "version": "3.11.4"
  }
 },
 "nbformat": 4,
 "nbformat_minor": 5
}
