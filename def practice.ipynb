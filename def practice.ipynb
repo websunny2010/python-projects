{
 "cells": [
  {
   "cell_type": "code",
   "execution_count": 6,
   "id": "4c31e4e6",
   "metadata": {},
   "outputs": [],
   "source": [
    "import math\n",
    "\n",
    "def circle(radius):\n",
    "    area = math.pi*radius**2\n",
    "    return area"
   ]
  },
  {
   "cell_type": "code",
   "execution_count": 9,
   "id": "9d1e935a",
   "metadata": {},
   "outputs": [
    {
     "data": {
      "text/plain": [
       "530.929158456675"
      ]
     },
     "execution_count": 9,
     "metadata": {},
     "output_type": "execute_result"
    }
   ],
   "source": [
    "circle(13)"
   ]
  },
  {
   "cell_type": "code",
   "execution_count": 11,
   "id": "f2662254",
   "metadata": {},
   "outputs": [],
   "source": [
    "def rect(l,b):\n",
    "    area = l*b\n",
    "    return area"
   ]
  },
  {
   "cell_type": "code",
   "execution_count": 12,
   "id": "b2b6508d",
   "metadata": {},
   "outputs": [
    {
     "data": {
      "text/plain": [
       "15"
      ]
     },
     "execution_count": 12,
     "metadata": {},
     "output_type": "execute_result"
    }
   ],
   "source": [
    "rect(3,5)"
   ]
  },
  {
   "cell_type": "code",
   "execution_count": 21,
   "id": "82d0caaa",
   "metadata": {},
   "outputs": [],
   "source": [
    "import math\n",
    "\n",
    "def circle_1(radius):\n",
    "    area = 2*math.pi*radius\n",
    "    return area"
   ]
  },
  {
   "cell_type": "code",
   "execution_count": 22,
   "id": "bbf02824",
   "metadata": {},
   "outputs": [
    {
     "data": {
      "text/plain": [
       "25.132741228718345"
      ]
     },
     "execution_count": 22,
     "metadata": {},
     "output_type": "execute_result"
    }
   ],
   "source": [
    "circle_1(4)"
   ]
  },
  {
   "cell_type": "code",
   "execution_count": 38,
   "id": "bce6e090",
   "metadata": {},
   "outputs": [],
   "source": [
    "def tri(b,h):\n",
    "    \n",
    "    area = 1/2*(b*h)\n",
    "    return area\n",
    "    "
   ]
  },
  {
   "cell_type": "code",
   "execution_count": 39,
   "id": "1205a693",
   "metadata": {},
   "outputs": [
    {
     "data": {
      "text/plain": [
       "4.0"
      ]
     },
     "execution_count": 39,
     "metadata": {},
     "output_type": "execute_result"
    }
   ],
   "source": [
    "tri(2,4)"
   ]
  },
  {
   "cell_type": "code",
   "execution_count": 42,
   "id": "4f0d4c21",
   "metadata": {},
   "outputs": [],
   "source": [
    "def rect_1(l,b):\n",
    "    perimetre = 2*(l+b)\n",
    "    return perimetre"
   ]
  },
  {
   "cell_type": "raw",
   "id": "a5b89a90",
   "metadata": {},
   "source": []
  },
  {
   "cell_type": "code",
   "execution_count": 43,
   "id": "ce79384f",
   "metadata": {},
   "outputs": [
    {
     "data": {
      "text/plain": [
       "22"
      ]
     },
     "execution_count": 43,
     "metadata": {},
     "output_type": "execute_result"
    }
   ],
   "source": [
    "rect_1(6,5)"
   ]
  },
  {
   "cell_type": "code",
   "execution_count": 44,
   "id": "a4a78033",
   "metadata": {},
   "outputs": [],
   "source": [
    "def circle_2(radius,measurement = 'both'):\n",
    "    \n",
    "    import math\n",
    "    \n",
    "    area = math.pi*radius**2\n",
    "    \n",
    "    circumference = 2*math.pi*radius\n",
    "    \n",
    "    \n",
    "    if measurement == 'area':\n",
    "        \n",
    "        return area\n",
    "    \n",
    "    elif measurement == 'circumference':\n",
    "        \n",
    "        return circumference\n",
    "    \n",
    "    elif measurement == 'both':\n",
    "        \n",
    "        return radius,circumference\n",
    "    \n",
    "    \n",
    "    \n",
    "    \n",
    "    \n",
    "    \n",
    "    \n",
    "    "
   ]
  },
  {
   "cell_type": "code",
   "execution_count": 50,
   "id": "46431d50",
   "metadata": {},
   "outputs": [],
   "source": [
    "circle_2(5,)"
   ]
  },
  {
   "cell_type": "code",
   "execution_count": null,
   "id": "e6b6c63a",
   "metadata": {},
   "outputs": [],
   "source": []
  },
  {
   "cell_type": "code",
   "execution_count": null,
   "id": "587c0f2a",
   "metadata": {},
   "outputs": [],
   "source": []
  }
 ],
 "metadata": {
  "kernelspec": {
   "display_name": "Python 3 (ipykernel)",
   "language": "python",
   "name": "python3"
  },
  "language_info": {
   "codemirror_mode": {
    "name": "ipython",
    "version": 3
   },
   "file_extension": ".py",
   "mimetype": "text/x-python",
   "name": "python",
   "nbconvert_exporter": "python",
   "pygments_lexer": "ipython3",
   "version": "3.9.12"
  }
 },
 "nbformat": 4,
 "nbformat_minor": 5
}
