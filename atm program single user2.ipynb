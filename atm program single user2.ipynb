{
 "cells": [
  {
   "cell_type": "code",
   "execution_count": 3,
   "id": "70b2c457",
   "metadata": {},
   "outputs": [
    {
     "name": "stdout",
     "output_type": "stream",
     "text": [
      "Welcome to the ATM machine\n",
      "Enter your 4 digit pin number: 5672\n",
      "Main menu\n",
      "1- withdrawl amount\n",
      "2- Balance enquiry\n",
      "3- Deposit amount\n",
      "Please choose transactions3\n",
      "Enter the deposit amount: 200000\n",
      "Your balance 400000\n"
     ]
    }
   ],
   "source": [
    "print(\"Welcome to the ATM machine\")\n",
    "\n",
    "pin = int(input(\"Enter your 4 digit pin number: \"))\n",
    "\n",
    "balance = 200000\n",
    "\n",
    "if (pin == 5672):\n",
    "    \n",
    "    print(\"Main menu\")\n",
    "    print(\"1- withdrawl amount\")\n",
    "    print(\"2- Balance enquiry\")\n",
    "    print(\"3- Deposit amount\")\n",
    "    \n",
    "    \n",
    "    choice = int(input(\"Please choose transactions\"))\n",
    "    \n",
    "    if(choice == 1):\n",
    "        \n",
    "        withdraw = int(input(\"Enter withdrawl amount: \"))\n",
    "        \n",
    "        if(withdraw < balance and balance % 100 ==0):\n",
    "            \n",
    "        \n",
    "            print('Remainig balance',balance - withdraw)\n",
    "            \n",
    "            \n",
    "        else:\n",
    "                print(\"Invalid amount\")\n",
    "                \n",
    "    elif(choice ==2):\n",
    "        \n",
    "            print(\"Your available amount: \",balance)\n",
    "    elif(choice ==3):\n",
    "        \n",
    "        deposit = int(input(\"Enter the deposit amount: \"))\n",
    "        \n",
    "        print('Your balance',balance + deposit)\n",
    "        \n",
    "    \n",
    "        \n",
    "        \n",
    "            \n",
    "            \n",
    "            \n",
    "            \n",
    "            \n",
    "            \n",
    "            \n",
    "    "
   ]
  },
  {
   "cell_type": "code",
   "execution_count": null,
   "id": "734c84e8",
   "metadata": {},
   "outputs": [],
   "source": []
  },
  {
   "cell_type": "code",
   "execution_count": null,
   "id": "ee654d22",
   "metadata": {},
   "outputs": [],
   "source": []
  },
  {
   "cell_type": "code",
   "execution_count": null,
   "id": "bf78ba23",
   "metadata": {},
   "outputs": [],
   "source": []
  },
  {
   "cell_type": "code",
   "execution_count": null,
   "id": "be924611",
   "metadata": {},
   "outputs": [],
   "source": []
  },
  {
   "cell_type": "code",
   "execution_count": null,
   "id": "3c11e1e5",
   "metadata": {},
   "outputs": [],
   "source": []
  },
  {
   "cell_type": "code",
   "execution_count": null,
   "id": "5ff64c49",
   "metadata": {},
   "outputs": [],
   "source": []
  },
  {
   "cell_type": "code",
   "execution_count": null,
   "id": "8961e002",
   "metadata": {},
   "outputs": [],
   "source": []
  },
  {
   "cell_type": "code",
   "execution_count": null,
   "id": "44f4fc92",
   "metadata": {},
   "outputs": [],
   "source": []
  },
  {
   "cell_type": "code",
   "execution_count": null,
   "id": "b3c1755d",
   "metadata": {},
   "outputs": [],
   "source": []
  },
  {
   "cell_type": "code",
   "execution_count": null,
   "id": "958609c7",
   "metadata": {},
   "outputs": [],
   "source": []
  },
  {
   "cell_type": "code",
   "execution_count": null,
   "id": "946b43fc",
   "metadata": {},
   "outputs": [],
   "source": [
    "\n"
   ]
  }
 ],
 "metadata": {
  "kernelspec": {
   "display_name": "Python 3 (ipykernel)",
   "language": "python",
   "name": "python3"
  },
  "language_info": {
   "codemirror_mode": {
    "name": "ipython",
    "version": 3
   },
   "file_extension": ".py",
   "mimetype": "text/x-python",
   "name": "python",
   "nbconvert_exporter": "python",
   "pygments_lexer": "ipython3",
   "version": "3.11.4"
  }
 },
 "nbformat": 4,
 "nbformat_minor": 5
}
