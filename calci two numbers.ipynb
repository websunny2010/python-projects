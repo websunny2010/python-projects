{
 "cells": [
  {
   "cell_type": "code",
   "execution_count": 2,
   "id": "ef044bba",
   "metadata": {},
   "outputs": [
    {
     "name": "stdout",
     "output_type": "stream",
     "text": [
      "Mini calci enter only two numbers\n",
      "Enter the first number : 456\n",
      "Enter the second number : 223\n",
      "Calculator menu\n",
      "1.add\n",
      "2.subtract\n",
      "3.multiply\n",
      "4.divide\n",
      "5.exit\n",
      "Enter the choice6\n",
      "Invaild choice\n"
     ]
    }
   ],
   "source": [
    "print(\"Mini calci enter only two numbers\")\n",
    "\n",
    "a= int(input(\"Enter the first number : \"))\n",
    "\n",
    "b=int(input(\"Enter the second number : \"))\n",
    "\n",
    "ch=0\n",
    "\n",
    "while ch<5:\n",
    "    \n",
    "    print(\"Calculator menu\")\n",
    "    \n",
    "    print(\"1.add\")\n",
    "    \n",
    "    print(\"2.subtract\")\n",
    "    \n",
    "    print(\"3.multiply\")\n",
    "    \n",
    "    print(\"4.divide\")\n",
    "    \n",
    "    print(\"5.exit\")\n",
    "    \n",
    "    ch= int(input(\"Enter the choice\"))\n",
    "    \n",
    "    if ch==1:\n",
    "        c = a+b\n",
    "        print('Sum:',c)\n",
    "        \n",
    "    elif ch==2:\n",
    "        c = a-b\n",
    "        print('Difference:',c)\n",
    "        \n",
    "    elif ch==3:\n",
    "        c = a*b\n",
    "        print('Product:',c)\n",
    "        \n",
    "    elif ch==4:\n",
    "        c = a/b;\n",
    "        print('Quotient:',c) \n",
    "        \n",
    "    elif ch==5:\n",
    "        break\n",
    "        \n",
    "    else:\n",
    "        print(\"Invaild choice\")\n",
    "        "
   ]
  },
  {
   "cell_type": "code",
   "execution_count": null,
   "id": "ff8c67de",
   "metadata": {},
   "outputs": [],
   "source": []
  },
  {
   "cell_type": "code",
   "execution_count": null,
   "id": "a46c1cdb",
   "metadata": {},
   "outputs": [],
   "source": []
  },
  {
   "cell_type": "code",
   "execution_count": null,
   "id": "f6a5055c",
   "metadata": {},
   "outputs": [],
   "source": []
  }
 ],
 "metadata": {
  "kernelspec": {
   "display_name": "Python 3 (ipykernel)",
   "language": "python",
   "name": "python3"
  },
  "language_info": {
   "codemirror_mode": {
    "name": "ipython",
    "version": 3
   },
   "file_extension": ".py",
   "mimetype": "text/x-python",
   "name": "python",
   "nbconvert_exporter": "python",
   "pygments_lexer": "ipython3",
   "version": "3.11.4"
  }
 },
 "nbformat": 4,
 "nbformat_minor": 5
}
