{
 "cells": [
  {
   "cell_type": "code",
   "execution_count": 6,
   "id": "bb792d4f",
   "metadata": {},
   "outputs": [
    {
     "name": "stdout",
     "output_type": "stream",
     "text": [
      "Mean solution: 3.0\n"
     ]
    }
   ],
   "source": [
    "# calculate mean \n",
    "\n",
    "m_mean = [1, 2, 3, 4, 5] \n",
    "n = len(m_mean) \n",
    " \n",
    "get_sum = sum(m_mean) \n",
    "o_mean = get_sum / n \n",
    " \n",
    "print(\"Mean solution: \" + str(o_mean)) \n",
    "\n"
   ]
  },
  {
   "cell_type": "code",
   "execution_count": 8,
   "id": "a814b992",
   "metadata": {},
   "outputs": [
    {
     "name": "stdout",
     "output_type": "stream",
     "text": [
      "Median is: 4\n"
     ]
    }
   ],
   "source": [
    "# calculate median \n",
    "\n",
    "m_median = [2,5,7,9,3,4,5] \n",
    "s = len(m_median) \n",
    "m_median.sort() \n",
    " \n",
    "if s % 2 == 0: \n",
    "    median1 = m_median[s//2] \n",
    "    median2 = m_median[s//2 - 1] \n",
    "    median = (median1 + median2)/2\n",
    "else: \n",
    "    median = m_median[n//2] \n",
    "print(\"Median solution: \" + str(median)) \n",
    "\n"
   ]
  },
  {
   "cell_type": "code",
   "execution_count": 9,
   "id": "070a660d",
   "metadata": {},
   "outputs": [
    {
     "name": "stdout",
     "output_type": "stream",
     "text": [
      "Mode is / are: 5\n",
      "Mode(s) is/are :{8, 6}\n",
      "{8, 2, 4, 5}\n"
     ]
    }
   ],
   "source": [
    "# calculate mode\n",
    "\n",
    "from collections import Counter \n",
    "l_mode = [1, 2, 3, 4, 5, 5] \n",
    "n = len(l_mode) \n",
    " \n",
    "data = Counter(l_mode) \n",
    "get_mode = dict(data) \n",
    "mode = [k for k, v in get_mode.items() if v == max(list(data.values()))] \n",
    " \n",
    "if len(mode) == n: \n",
    "    get_mode = \"No mode found\"\n",
    "else: \n",
    "    get_mode = \"Mode is / are: \" + ', '.join(map(str, mode)) \n",
    "     \n",
    "print(get_mode) \n",
    "\n",
    "# The list for which you need to find \n",
    "# the Mode \n",
    "y= [11, 8, 8, 3, 4, 4, 5, 6, 6, 6, 7, 8] \n",
    " \n",
    "# First you sort it \n",
    "# You will get numbers arranged from 3 to \n",
    "# 11 in asc order \n",
    "y.sort() \n",
    " \n",
    "# Now open an empty list. \n",
    "# What you are going to do is to count \n",
    "# the occurrence of each number and append \n",
    "# (or to add your findings to) L1 \n",
    "L1=[] \n",
    " \n",
    "# You can iterate through the sorted list \n",
    "# of numbers in y, \n",
    "# counting the occurrence of each number, \n",
    "# using the following code \n",
    " \n",
    "i = 0\n",
    "while i < len(y) : \n",
    "    L1.append(y.count(y[i])) \n",
    "    i += 1\n",
    " \n",
    "# your L1 will be [1, 2, 2, 1, 3, 3, 3, 1, 3, 3, 3, 1], \n",
    "# the occurrences for each number in sorted y \n",
    " \n",
    "# now you can create a custom dictionary d1 for k : V \n",
    "# where k = your values in sorted y \n",
    "# and v = the occurrences of each value in y \n",
    " \n",
    "# the Code is as follows \n",
    " \n",
    "d1 = dict(zip(y, L1)) \n",
    " \n",
    "# your d1 will be {3: 1, 4: 2, 5: 1, 6: 3, 7: 1, 8: 3, 11: 1} \n",
    "# now what you need to do is to filter \n",
    "# the k values with the highest v values. \n",
    "# do this with the following code \n",
    " \n",
    "d2={k for (k,v) in d1.items() if v == max(L1) } \n",
    " \n",
    "print(\"Mode(s) is/are :\" + str(d2)) \n",
    "\n",
    "number_list = [1, 2, 2, 3, 4, 4, 5, 5, 6, 7, 8, 8, 8]\n",
    "uniq_values = []\n",
    "mode_values = []\n",
    "for i in number_list:\n",
    "    if i not in uniq_values:\n",
    "        uniq_values.append(i)\n",
    "    else:\n",
    "        mode_values.append(i)\n",
    "print(set(mode_values))"
   ]
  },
  {
   "cell_type": "code",
   "execution_count": null,
   "id": "d8ed6538",
   "metadata": {},
   "outputs": [],
   "source": []
  }
 ],
 "metadata": {
  "kernelspec": {
   "display_name": "Python 3 (ipykernel)",
   "language": "python",
   "name": "python3"
  },
  "language_info": {
   "codemirror_mode": {
    "name": "ipython",
    "version": 3
   },
   "file_extension": ".py",
   "mimetype": "text/x-python",
   "name": "python",
   "nbconvert_exporter": "python",
   "pygments_lexer": "ipython3",
   "version": "3.11.4"
  }
 },
 "nbformat": 4,
 "nbformat_minor": 5
}
